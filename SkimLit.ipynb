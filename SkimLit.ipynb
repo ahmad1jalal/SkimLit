{
 "cells": [
  {
   "cell_type": "code",
   "execution_count": 1,
   "id": "582cd8aa",
   "metadata": {},
   "outputs": [],
   "source": [
    "# importing libraries.....\n",
    "import pandas as pd\n",
    "import numpy as np\n",
    "import matplotlib.pyplot as plt\n",
    "import tensorflow as tf\n",
    "import os\n",
    "from sklearn.preprocessing import LabelEncoder\n",
    "from sklearn.feature_extraction.text import TfidfVectorizer\n",
    "from sklearn.naive_bayes import MultinomialNB\n",
    "from sklearn.pipeline import Pipeline\n",
    "from sklearn.metrics import accuracy_score,precision_recall_fscore_support\n",
    "from tensorflow.keras.layers import TextVectorization,Embedding\n",
    "import warnings\n",
    "import random\n",
    "from tensorflow.keras import layers\n",
    "import string"
   ]
  },
  {
   "cell_type": "code",
   "execution_count": 2,
   "id": "880ca0c6",
   "metadata": {},
   "outputs": [],
   "source": [
    "# filter warnings.\n",
    "warnings.filterwarnings(\"ignore\")"
   ]
  },
  {
   "cell_type": "code",
   "execution_count": 3,
   "id": "b691002a",
   "metadata": {},
   "outputs": [],
   "source": [
    "# for downloading data.....\n",
    "# !git clone https://github.com/Franck-Dernoncourt/pubmed-rct.git\n",
    "# !ls pubmed-rct"
   ]
  },
  {
   "cell_type": "markdown",
   "id": "70b15482",
   "metadata": {},
   "source": [
    "The goal of this model is to classify the sentences which appear in the sequences, like what role each sentences serve in the abstract"
   ]
  },
  {
   "cell_type": "markdown",
   "id": "f288b4de",
   "metadata": {},
   "source": [
    "## What we're going to do:\n",
    "    ~ Download Dataset\n",
    "    ~ Writing Preprocessing Function to prepare data for modelling\n",
    "    ~ Setup Series of Model Experiment\n",
    "    ~ Make MultiModel Model\n",
    "    ~ Make Prediction"
   ]
  },
  {
   "cell_type": "code",
   "execution_count": 4,
   "id": "6b458443",
   "metadata": {},
   "outputs": [],
   "source": [
    "# check out the files in the dataset\n",
    "# !ls pubmed-rct/PubMed_20k_RCT_numbers_replaced_with_at_sign"
   ]
  },
  {
   "cell_type": "markdown",
   "id": "94a059aa",
   "metadata": {},
   "source": [
    "Well we've three files there first one is for development set which is another name for validation data while 2nd and 3rd files contain data for testing and training respectively."
   ]
  },
  {
   "cell_type": "code",
   "execution_count": 5,
   "id": "f38c2b5a",
   "metadata": {},
   "outputs": [],
   "source": [
    "# check all filenames in the directory....\n",
    "# data_dir = \"pubmed-rct/PubMed_20k_RCT_numbers_replaced_with_at_sign/\"\n",
    "# filenames = [data_dir + fname for fname in os.listdir(data_dir)]\n",
    "# filenames"
   ]
  },
  {
   "cell_type": "code",
   "execution_count": 6,
   "id": "d53d1738",
   "metadata": {},
   "outputs": [
    {
     "name": "stdout",
     "output_type": "stream",
     "text": [
      "README.md     dev.txt       test.txt\r\n",
      "SkimLit.ipynb \u001b[34mpubmed-rct\u001b[m\u001b[m    train.txt\r\n"
     ]
    }
   ],
   "source": [
    "!ls"
   ]
  },
  {
   "cell_type": "markdown",
   "id": "d041b2be",
   "metadata": {},
   "source": [
    "## Preprocessing Data:"
   ]
  },
  {
   "cell_type": "code",
   "execution_count": 7,
   "id": "defd92ee",
   "metadata": {},
   "outputs": [],
   "source": [
    "# let's make a function that will preprocess the data\n",
    "def get_lines(fname):\n",
    "    \"\"\"\n",
    "    reads the filename and return the lines of the text as a list\n",
    "    \"\"\"\n",
    "    with open(fname,\"r\") as file:\n",
    "        return file.readlines()"
   ]
  },
  {
   "cell_type": "code",
   "execution_count": 8,
   "id": "3217ea7a",
   "metadata": {},
   "outputs": [
    {
     "name": "stdout",
     "output_type": "stream",
     "text": [
      "README.md     dev.txt       test.txt\r\n",
      "SkimLit.ipynb \u001b[34mpubmed-rct\u001b[m\u001b[m    train.txt\r\n"
     ]
    }
   ],
   "source": [
    "!ls"
   ]
  },
  {
   "cell_type": "code",
   "execution_count": 9,
   "id": "9465d9ad",
   "metadata": {},
   "outputs": [
    {
     "data": {
      "text/plain": [
       "['###24293578\\n',\n",
       " 'OBJECTIVE\\tTo investigate the efficacy of @ weeks of daily low-dose oral prednisolone in improving pain , mobility , and systemic low-grade inflammation in the short term and whether the effect would be sustained at @ weeks in older adults with moderate to severe knee osteoarthritis ( OA ) .\\n',\n",
       " 'METHODS\\tA total of @ patients with primary knee OA were randomized @:@ ; @ received @ mg/day of prednisolone and @ received placebo for @ weeks .\\n',\n",
       " 'METHODS\\tOutcome measures included pain reduction and improvement in function scores and systemic inflammation markers .\\n',\n",
       " 'METHODS\\tPain was assessed using the visual analog pain scale ( @-@ mm ) .\\n']"
      ]
     },
     "execution_count": 9,
     "metadata": {},
     "output_type": "execute_result"
    }
   ],
   "source": [
    "# get the lines \n",
    "train_lines = get_lines(\"train.txt\")\n",
    "train_lines[:5]"
   ]
  },
  {
   "cell_type": "code",
   "execution_count": 10,
   "id": "d55ffe70",
   "metadata": {},
   "outputs": [
    {
     "data": {
      "text/plain": [
       "['###24293578\\n',\n",
       " 'OBJECTIVE\\tTo investigate the efficacy of @ weeks of daily low-dose oral prednisolone in improving pain , mobility , and systemic low-grade inflammation in the short term and whether the effect would be sustained at @ weeks in older adults with moderate to severe knee osteoarthritis ( OA ) .\\n']"
      ]
     },
     "execution_count": 10,
     "metadata": {},
     "output_type": "execute_result"
    }
   ],
   "source": [
    "train_lines[:2]"
   ]
  },
  {
   "cell_type": "code",
   "execution_count": 11,
   "id": "89fc85c9",
   "metadata": {},
   "outputs": [],
   "source": [
    "def preprocess_text(filename):\n",
    "  input_lines = get_lines(filename) # get all lines from filename\n",
    "  abstract_lines = \"\" # create an empty abstract\n",
    "  abstract_samples = [] # create an empty list of abstracts\n",
    "  \n",
    "  # Loop through each line in target file\n",
    "  for line in input_lines:\n",
    "    if line.startswith(\"###\"): # check to see if line is an ID line\n",
    "      abstract_id = line\n",
    "      abstract_lines = \"\" # reset abstract string\n",
    "    elif line.isspace(): # check to see if line is a new line\n",
    "      abstract_line_split = abstract_lines.splitlines() # split abstract into separate lines\n",
    "\n",
    "      # Iterate through each line in abstract and count them at the same time\n",
    "      for abstract_line_number, abstract_line in enumerate(abstract_line_split):\n",
    "        line_data = {} # create empty dict to store data from line\n",
    "        target_text_split = abstract_line.split(\"\\t\") # split target label from text\n",
    "        line_data[\"target\"] = target_text_split[0] # get target label\n",
    "        line_data[\"text\"] = target_text_split[1].lower() # get target text and lower it\n",
    "        line_data[\"line_number\"] = abstract_line_number # what number line does the line appear in the abstract?\n",
    "        line_data[\"total_lines\"] = len(abstract_line_split) - 1 # how many total lines are in the abstract? (start from 0)\n",
    "        abstract_samples.append(line_data) # add line data to abstract samples list\n",
    "    \n",
    "    else: # if the above conditions aren't fulfilled, the line contains a labelled sentence\n",
    "      abstract_lines += line\n",
    "  \n",
    "  return abstract_samples"
   ]
  },
  {
   "cell_type": "code",
   "execution_count": 12,
   "id": "31baaed1",
   "metadata": {},
   "outputs": [
    {
     "data": {
      "text/plain": [
       "(180040, 30212, 30135)"
      ]
     },
     "execution_count": 12,
     "metadata": {},
     "output_type": "execute_result"
    }
   ],
   "source": [
    "# get the data from files and preprocess it\n",
    "train_samples = preprocess_text(\"train.txt\")\n",
    "val_samples = preprocess_text(\"dev.txt\")\n",
    "test_samples = preprocess_text(\"test.txt\")\n",
    "\n",
    "# checking the length of each sample\n",
    "len(train_samples),len(val_samples),len(test_samples)"
   ]
  },
  {
   "cell_type": "code",
   "execution_count": 13,
   "id": "40ccdbf5",
   "metadata": {},
   "outputs": [
    {
     "data": {
      "text/html": [
       "<div>\n",
       "<style scoped>\n",
       "    .dataframe tbody tr th:only-of-type {\n",
       "        vertical-align: middle;\n",
       "    }\n",
       "\n",
       "    .dataframe tbody tr th {\n",
       "        vertical-align: top;\n",
       "    }\n",
       "\n",
       "    .dataframe thead th {\n",
       "        text-align: right;\n",
       "    }\n",
       "</style>\n",
       "<table border=\"1\" class=\"dataframe\">\n",
       "  <thead>\n",
       "    <tr style=\"text-align: right;\">\n",
       "      <th></th>\n",
       "      <th>target</th>\n",
       "      <th>text</th>\n",
       "      <th>line_number</th>\n",
       "      <th>total_lines</th>\n",
       "    </tr>\n",
       "  </thead>\n",
       "  <tbody>\n",
       "    <tr>\n",
       "      <th>0</th>\n",
       "      <td>OBJECTIVE</td>\n",
       "      <td>to investigate the efficacy of @ weeks of dail...</td>\n",
       "      <td>0</td>\n",
       "      <td>11</td>\n",
       "    </tr>\n",
       "    <tr>\n",
       "      <th>1</th>\n",
       "      <td>METHODS</td>\n",
       "      <td>a total of @ patients with primary knee oa wer...</td>\n",
       "      <td>1</td>\n",
       "      <td>11</td>\n",
       "    </tr>\n",
       "    <tr>\n",
       "      <th>2</th>\n",
       "      <td>METHODS</td>\n",
       "      <td>outcome measures included pain reduction and i...</td>\n",
       "      <td>2</td>\n",
       "      <td>11</td>\n",
       "    </tr>\n",
       "    <tr>\n",
       "      <th>3</th>\n",
       "      <td>METHODS</td>\n",
       "      <td>pain was assessed using the visual analog pain...</td>\n",
       "      <td>3</td>\n",
       "      <td>11</td>\n",
       "    </tr>\n",
       "    <tr>\n",
       "      <th>4</th>\n",
       "      <td>METHODS</td>\n",
       "      <td>secondary outcome measures included the wester...</td>\n",
       "      <td>4</td>\n",
       "      <td>11</td>\n",
       "    </tr>\n",
       "    <tr>\n",
       "      <th>...</th>\n",
       "      <td>...</td>\n",
       "      <td>...</td>\n",
       "      <td>...</td>\n",
       "      <td>...</td>\n",
       "    </tr>\n",
       "    <tr>\n",
       "      <th>180035</th>\n",
       "      <td>RESULTS</td>\n",
       "      <td>for the absolute change in percent atheroma vo...</td>\n",
       "      <td>7</td>\n",
       "      <td>11</td>\n",
       "    </tr>\n",
       "    <tr>\n",
       "      <th>180036</th>\n",
       "      <td>RESULTS</td>\n",
       "      <td>for pav , a significantly greater percentage o...</td>\n",
       "      <td>8</td>\n",
       "      <td>11</td>\n",
       "    </tr>\n",
       "    <tr>\n",
       "      <th>180037</th>\n",
       "      <td>RESULTS</td>\n",
       "      <td>both strategies had acceptable side effect pro...</td>\n",
       "      <td>9</td>\n",
       "      <td>11</td>\n",
       "    </tr>\n",
       "    <tr>\n",
       "      <th>180038</th>\n",
       "      <td>CONCLUSIONS</td>\n",
       "      <td>compared with standard statin monotherapy , th...</td>\n",
       "      <td>10</td>\n",
       "      <td>11</td>\n",
       "    </tr>\n",
       "    <tr>\n",
       "      <th>180039</th>\n",
       "      <td>CONCLUSIONS</td>\n",
       "      <td>( plaque regression with cholesterol absorptio...</td>\n",
       "      <td>11</td>\n",
       "      <td>11</td>\n",
       "    </tr>\n",
       "  </tbody>\n",
       "</table>\n",
       "<p>180040 rows × 4 columns</p>\n",
       "</div>"
      ],
      "text/plain": [
       "             target                                               text  \\\n",
       "0         OBJECTIVE  to investigate the efficacy of @ weeks of dail...   \n",
       "1           METHODS  a total of @ patients with primary knee oa wer...   \n",
       "2           METHODS  outcome measures included pain reduction and i...   \n",
       "3           METHODS  pain was assessed using the visual analog pain...   \n",
       "4           METHODS  secondary outcome measures included the wester...   \n",
       "...             ...                                                ...   \n",
       "180035      RESULTS  for the absolute change in percent atheroma vo...   \n",
       "180036      RESULTS  for pav , a significantly greater percentage o...   \n",
       "180037      RESULTS  both strategies had acceptable side effect pro...   \n",
       "180038  CONCLUSIONS  compared with standard statin monotherapy , th...   \n",
       "180039  CONCLUSIONS  ( plaque regression with cholesterol absorptio...   \n",
       "\n",
       "        line_number  total_lines  \n",
       "0                 0           11  \n",
       "1                 1           11  \n",
       "2                 2           11  \n",
       "3                 3           11  \n",
       "4                 4           11  \n",
       "...             ...          ...  \n",
       "180035            7           11  \n",
       "180036            8           11  \n",
       "180037            9           11  \n",
       "180038           10           11  \n",
       "180039           11           11  \n",
       "\n",
       "[180040 rows x 4 columns]"
      ]
     },
     "execution_count": 13,
     "metadata": {},
     "output_type": "execute_result"
    }
   ],
   "source": [
    "# convert them into pandas data-frame\n",
    "train_df = pd.DataFrame(train_samples)\n",
    "val_df = pd.DataFrame(val_samples)\n",
    "test_df = pd.DataFrame(test_samples)\n",
    "\n",
    "# check out the head of train df\n",
    "train_df"
   ]
  },
  {
   "cell_type": "code",
   "execution_count": 14,
   "id": "f6c074c7",
   "metadata": {},
   "outputs": [
    {
     "data": {
      "text/plain": [
       "METHODS        59353\n",
       "RESULTS        57953\n",
       "CONCLUSIONS    27168\n",
       "BACKGROUND     21727\n",
       "OBJECTIVE      13839\n",
       "Name: target, dtype: int64"
      ]
     },
     "execution_count": 14,
     "metadata": {},
     "output_type": "execute_result"
    }
   ],
   "source": [
    "# checking the destribution of the target values...\n",
    "train_df[\"target\"].value_counts()"
   ]
  },
  {
   "cell_type": "code",
   "execution_count": 15,
   "id": "d55762c2",
   "metadata": {},
   "outputs": [
    {
     "data": {
      "image/png": "[encoded data removed]",
      "text/plain": [
       "<Figure size 432x288 with 1 Axes>"
      ]
     },
     "metadata": {
      "needs_background": "light"
     },
     "output_type": "display_data"
    }
   ],
   "source": [
    "# let's visulize it...\n",
    "train_df[\"target\"].value_counts().plot(kind=\"bar\");"
   ]
  },
  {
   "cell_type": "code",
   "execution_count": 16,
   "id": "a3ff79a3",
   "metadata": {},
   "outputs": [
    {
     "data": {
      "text/plain": [
       "['to investigate the efficacy of @ weeks of daily low-dose oral prednisolone in improving pain , mobility , and systemic low-grade inflammation in the short term and whether the effect would be sustained at @ weeks in older adults with moderate to severe knee osteoarthritis ( oa ) .',\n",
       " 'a total of @ patients with primary knee oa were randomized @:@ ; @ received @ mg/day of prednisolone and @ received placebo for @ weeks .',\n",
       " 'outcome measures included pain reduction and improvement in function scores and systemic inflammation markers .',\n",
       " 'pain was assessed using the visual analog pain scale ( @-@ mm ) .',\n",
       " 'secondary outcome measures included the western ontario and mcmaster universities osteoarthritis index scores , patient global assessment ( pga ) of the severity of knee oa , and @-min walk distance ( @mwd ) .']"
      ]
     },
     "execution_count": 16,
     "metadata": {},
     "output_type": "execute_result"
    }
   ],
   "source": [
    "# get the sentences from data-frame line X values\n",
    "train_sentences = train_df[\"text\"].tolist()\n",
    "val_sentences = val_df[\"text\"].tolist()\n",
    "test_sentences = test_df[\"text\"].tolist()\n",
    "\n",
    "# viewing couple of few lines...\n",
    "train_sentences[:5]"
   ]
  },
  {
   "cell_type": "code",
   "execution_count": 17,
   "id": "81afcb1b",
   "metadata": {},
   "outputs": [
    {
     "data": {
      "text/plain": [
       "array([3, 2, 2, ..., 4, 1, 1])"
      ]
     },
     "execution_count": 17,
     "metadata": {},
     "output_type": "execute_result"
    }
   ],
   "source": [
    "# get the \"Target\" Y values and convert them into One-Hot-Encoder\n",
    "encoder = LabelEncoder()\n",
    "train_labels = encoder.fit_transform(train_df[\"target\"].to_numpy())\n",
    "test_labels = encoder.transform(test_df[\"target\"].to_numpy())\n",
    "val_labels = encoder.transform(val_df[\"target\"].to_numpy())\n",
    "\n",
    "train_labels"
   ]
  },
  {
   "cell_type": "code",
   "execution_count": 34,
   "id": "60429a60",
   "metadata": {},
   "outputs": [
    {
     "name": "stdout",
     "output_type": "stream",
     "text": [
      "['BACKGROUND' 'CONCLUSIONS' 'METHODS' 'OBJECTIVE' 'RESULTS']\n"
     ]
    },
    {
     "data": {
      "text/plain": [
       "5"
      ]
     },
     "execution_count": 34,
     "metadata": {},
     "output_type": "execute_result"
    }
   ],
   "source": [
    "print(encoder.classes_)\n",
    "num_classes = len(encoder.classes_)\n",
    "num_classes"
   ]
  },
  {
   "cell_type": "markdown",
   "id": "4f5d7fa3",
   "metadata": {},
   "source": [
    "## Model Experiments:"
   ]
  },
  {
   "cell_type": "markdown",
   "id": "a577aa3b",
   "metadata": {},
   "source": [
    "## Model 0 : BaseLine Model\n",
    "\n",
    "our first baseline model will be scikit-learn Naive Bayes Model."
   ]
  },
  {
   "cell_type": "code",
   "execution_count": 19,
   "id": "4c31309c",
   "metadata": {},
   "outputs": [
    {
     "data": {
      "text/html": [
       "<style>#sk-container-id-1 {color: black;background-color: white;}#sk-container-id-1 pre{padding: 0;}#sk-container-id-1 div.sk-toggleable {background-color: white;}#sk-container-id-1 label.sk-toggleable__label {cursor: pointer;display: block;width: 100%;margin-bottom: 0;padding: 0.3em;box-sizing: border-box;text-align: center;}#sk-container-id-1 label.sk-toggleable__label-arrow:before {content: \"▸\";float: left;margin-right: 0.25em;color: #696969;}#sk-container-id-1 label.sk-toggleable__label-arrow:hover:before {color: black;}#sk-container-id-1 div.sk-estimator:hover label.sk-toggleable__label-arrow:before {color: black;}#sk-container-id-1 div.sk-toggleable__content {max-height: 0;max-width: 0;overflow: hidden;text-align: left;background-color: #f0f8ff;}#sk-container-id-1 div.sk-toggleable__content pre {margin: 0.2em;color: black;border-radius: 0.25em;background-color: #f0f8ff;}#sk-container-id-1 input.sk-toggleable__control:checked~div.sk-toggleable__content {max-height: 200px;max-width: 100%;overflow: auto;}#sk-container-id-1 input.sk-toggleable__control:checked~label.sk-toggleable__label-arrow:before {content: \"▾\";}#sk-container-id-1 div.sk-estimator input.sk-toggleable__control:checked~label.sk-toggleable__label {background-color: #d4ebff;}#sk-container-id-1 div.sk-label input.sk-toggleable__control:checked~label.sk-toggleable__label {background-color: #d4ebff;}#sk-container-id-1 input.sk-hidden--visually {border: 0;clip: rect(1px 1px 1px 1px);clip: rect(1px, 1px, 1px, 1px);height: 1px;margin: -1px;overflow: hidden;padding: 0;position: absolute;width: 1px;}#sk-container-id-1 div.sk-estimator {font-family: monospace;background-color: #f0f8ff;border: 1px dotted black;border-radius: 0.25em;box-sizing: border-box;margin-bottom: 0.5em;}#sk-container-id-1 div.sk-estimator:hover {background-color: #d4ebff;}#sk-container-id-1 div.sk-parallel-item::after {content: \"\";width: 100%;border-bottom: 1px solid gray;flex-grow: 1;}#sk-container-id-1 div.sk-label:hover label.sk-toggleable__label {background-color: #d4ebff;}#sk-container-id-1 div.sk-serial::before {content: \"\";position: absolute;border-left: 1px solid gray;box-sizing: border-box;top: 0;bottom: 0;left: 50%;z-index: 0;}#sk-container-id-1 div.sk-serial {display: flex;flex-direction: column;align-items: center;background-color: white;padding-right: 0.2em;padding-left: 0.2em;position: relative;}#sk-container-id-1 div.sk-item {position: relative;z-index: 1;}#sk-container-id-1 div.sk-parallel {display: flex;align-items: stretch;justify-content: center;background-color: white;position: relative;}#sk-container-id-1 div.sk-item::before, #sk-container-id-1 div.sk-parallel-item::before {content: \"\";position: absolute;border-left: 1px solid gray;box-sizing: border-box;top: 0;bottom: 0;left: 50%;z-index: -1;}#sk-container-id-1 div.sk-parallel-item {display: flex;flex-direction: column;z-index: 1;position: relative;background-color: white;}#sk-container-id-1 div.sk-parallel-item:first-child::after {align-self: flex-end;width: 50%;}#sk-container-id-1 div.sk-parallel-item:last-child::after {align-self: flex-start;width: 50%;}#sk-container-id-1 div.sk-parallel-item:only-child::after {width: 0;}#sk-container-id-1 div.sk-dashed-wrapped {border: 1px dashed gray;margin: 0 0.4em 0.5em 0.4em;box-sizing: border-box;padding-bottom: 0.4em;background-color: white;}#sk-container-id-1 div.sk-label label {font-family: monospace;font-weight: bold;display: inline-block;line-height: 1.2em;}#sk-container-id-1 div.sk-label-container {text-align: center;}#sk-container-id-1 div.sk-container {/* jupyter's `normalize.less` sets `[hidden] { display: none; }` but bootstrap.min.css set `[hidden] { display: none !important; }` so we also need the `!important` here to be able to override the default hidden behavior on the sphinx rendered scikit-learn.org. See: https://github.com/scikit-learn/scikit-learn/issues/21755 */display: inline-block !important;position: relative;}#sk-container-id-1 div.sk-text-repr-fallback {display: none;}</style><div id=\"sk-container-id-1\" class=\"sk-top-container\"><div class=\"sk-text-repr-fallback\"><pre>Pipeline(steps=[(&#x27;tfidf&#x27;, TfidfVectorizer()), (&#x27;model&#x27;, MultinomialNB())])</pre><b>In a Jupyter environment, please rerun this cell to show the HTML representation or trust the notebook. <br />On GitHub, the HTML representation is unable to render, please try loading this page with nbviewer.org.</b></div><div class=\"sk-container\" hidden><div class=\"sk-item sk-dashed-wrapped\"><div class=\"sk-label-container\"><div class=\"sk-label sk-toggleable\"><input class=\"sk-toggleable__control sk-hidden--visually\" id=\"sk-estimator-id-1\" type=\"checkbox\" ><label for=\"sk-estimator-id-1\" class=\"sk-toggleable__label sk-toggleable__label-arrow\">Pipeline</label><div class=\"sk-toggleable__content\"><pre>Pipeline(steps=[(&#x27;tfidf&#x27;, TfidfVectorizer()), (&#x27;model&#x27;, MultinomialNB())])</pre></div></div></div><div class=\"sk-serial\"><div class=\"sk-item\"><div class=\"sk-estimator sk-toggleable\"><input class=\"sk-toggleable__control sk-hidden--visually\" id=\"sk-estimator-id-2\" type=\"checkbox\" ><label for=\"sk-estimator-id-2\" class=\"sk-toggleable__label sk-toggleable__label-arrow\">TfidfVectorizer</label><div class=\"sk-toggleable__content\"><pre>TfidfVectorizer()</pre></div></div></div><div class=\"sk-item\"><div class=\"sk-estimator sk-toggleable\"><input class=\"sk-toggleable__control sk-hidden--visually\" id=\"sk-estimator-id-3\" type=\"checkbox\" ><label for=\"sk-estimator-id-3\" class=\"sk-toggleable__label sk-toggleable__label-arrow\">MultinomialNB</label><div class=\"sk-toggleable__content\"><pre>MultinomialNB()</pre></div></div></div></div></div></div></div>"
      ],
      "text/plain": [
       "Pipeline(steps=[('tfidf', TfidfVectorizer()), ('model', MultinomialNB())])"
      ]
     },
     "execution_count": 19,
     "metadata": {},
     "output_type": "execute_result"
    }
   ],
   "source": [
    "# baseline model\n",
    "model_0 = Pipeline([\n",
    "    (\"tfidf\",TfidfVectorizer()),\n",
    "    (\"model\",MultinomialNB())\n",
    "])\n",
    "\n",
    "# fitting the model on data....\n",
    "model_0.fit(train_sentences,train_labels)"
   ]
  },
  {
   "cell_type": "code",
   "execution_count": 20,
   "id": "d53827a5",
   "metadata": {},
   "outputs": [
    {
     "data": {
      "text/plain": [
       "72.1832384482987"
      ]
     },
     "execution_count": 20,
     "metadata": {},
     "output_type": "execute_result"
    }
   ],
   "source": [
    "# evaluate baseline model...\n",
    "model_0.score(val_sentences,val_labels) * 100"
   ]
  },
  {
   "cell_type": "markdown",
   "id": "27808094",
   "metadata": {},
   "source": [
    "## Model Perfomance Evaluation\n"
   ]
  },
  {
   "cell_type": "code",
   "execution_count": 21,
   "id": "f992871c",
   "metadata": {},
   "outputs": [],
   "source": [
    "# let's make a function that will evaluate our model performance\n",
    "def calculate_results(y_true,y_pred):\n",
    "    \"\"\"\n",
    "    This function will take two parameters and will return the Model Accuracy,Precision,Recall and Support.\n",
    "    \"\"\"\n",
    "    model_accuracy = accuracy_score(y_true,y_pred) * 100\n",
    "    model_precision,model_recall,model_fscore,_ = precision_recall_fscore_support(y_true,y_pred,\n",
    "                                                                                  average=\"weighted\")\n",
    "    results = {\"Accuracy\" : model_accuracy,\n",
    "              \"Precision\" : model_precision,\n",
    "              \"Recall\" : model_recall,\n",
    "              \"Fscore\" : model_fscore}\n",
    "    return results"
   ]
  },
  {
   "cell_type": "code",
   "execution_count": 22,
   "id": "aa95bccf",
   "metadata": {},
   "outputs": [
    {
     "data": {
      "text/plain": [
       "array([4, 1, 3, ..., 4, 4, 1])"
      ]
     },
     "execution_count": 22,
     "metadata": {},
     "output_type": "execute_result"
    }
   ],
   "source": [
    "# make prediction on baseline model\n",
    "baseline_pred = model_0.predict(val_sentences)\n",
    "baseline_pred"
   ]
  },
  {
   "cell_type": "code",
   "execution_count": 23,
   "id": "10e9d98d",
   "metadata": {},
   "outputs": [
    {
     "data": {
      "text/plain": [
       "{'Accuracy': 72.1832384482987,\n",
       " 'Precision': 0.7186466952323352,\n",
       " 'Recall': 0.7218323844829869,\n",
       " 'Fscore': 0.6989250353450294}"
      ]
     },
     "execution_count": 23,
     "metadata": {},
     "output_type": "execute_result"
    }
   ],
   "source": [
    "# let's calculate the results...\n",
    "baseline_results = calculate_results(val_labels,baseline_pred)\n",
    "baseline_results"
   ]
  },
  {
   "cell_type": "markdown",
   "id": "86caa9ce",
   "metadata": {},
   "source": [
    "Wow! look like our model has achieved accuracy of 72.1% not bad."
   ]
  },
  {
   "cell_type": "markdown",
   "id": "3e15be74",
   "metadata": {},
   "source": [
    "## Prepare data for deep learning models...\n",
    "\n",
    "We've to convert our data into a shape that is suitable for deep learning models.\n",
    "First we'll tokenize our data and then embbed it and finally feed into the model."
   ]
  },
  {
   "cell_type": "code",
   "execution_count": 24,
   "id": "2fc8a4c4",
   "metadata": {},
   "outputs": [
    {
     "data": {
      "text/plain": [
       "26.338269273494777"
      ]
     },
     "execution_count": 24,
     "metadata": {},
     "output_type": "execute_result"
    }
   ],
   "source": [
    "# let's find out the average sentence length\n",
    "sent_len = [len(sentence.split()) for sentence in train_sentences]\n",
    "avg_len = sum(sent_len)/len(train_sentences)\n",
    "avg_len"
   ]
  },
  {
   "cell_type": "code",
   "execution_count": 25,
   "id": "9f5dabb1",
   "metadata": {},
   "outputs": [
    {
     "data": {
      "text/plain": [
       "55"
      ]
     },
     "execution_count": 25,
     "metadata": {},
     "output_type": "execute_result"
    }
   ],
   "source": [
    "# checking the length for output_sequence\n",
    "output_seq_len = int(np.percentile(sent_len,95))\n",
    "output_seq_len"
   ]
  },
  {
   "cell_type": "code",
   "execution_count": 26,
   "id": "614a8199",
   "metadata": {},
   "outputs": [
    {
     "name": "stdout",
     "output_type": "stream",
     "text": [
      "Metal device set to: Apple M1\n"
     ]
    },
    {
     "name": "stderr",
     "output_type": "stream",
     "text": [
      "2022-08-19 22:56:33.048032: I tensorflow/core/common_runtime/pluggable_device/pluggable_device_factory.cc:305] Could not identify NUMA node of platform GPU ID 0, defaulting to 0. Your kernel may not have been built with NUMA support.\n",
      "2022-08-19 22:56:33.048186: I tensorflow/core/common_runtime/pluggable_device/pluggable_device_factory.cc:271] Created TensorFlow device (/job:localhost/replica:0/task:0/device:GPU:0 with 0 MB memory) -> physical PluggableDevice (device: 0, name: METAL, pci bus id: <undefined>)\n",
      "2022-08-19 22:56:33.765214: W tensorflow/core/platform/profile_utils/cpu_utils.cc:128] Failed to get CPU frequency: 0 Hz\n",
      "2022-08-19 22:56:33.816427: I tensorflow/core/grappler/optimizers/custom_graph_optimizer_registry.cc:113] Plugin optimizer for device_type GPU is enabled.\n"
     ]
    }
   ],
   "source": [
    "# max tokens...\n",
    "max_tokens = 68000\n",
    "\n",
    "# make first tokenizer layer\n",
    "text_vectorizer = TextVectorization(max_tokens=max_tokens,\n",
    "                                   output_sequence_length = output_seq_len,)\n",
    "\n",
    "# adapt it to the train data...\n",
    "text_vectorizer.adapt(train_sentences)"
   ]
  },
  {
   "cell_type": "code",
   "execution_count": 27,
   "id": "9d227a9b",
   "metadata": {},
   "outputs": [
    {
     "name": "stdout",
     "output_type": "stream",
     "text": [
      "Original Sentence : clinicaltrials.gov nct@ http://clinicaltrials.gov/ct@/show/nct@ .\n",
      "\n",
      "Vectorizer Sentence : [[  275   176 11581     0     0     0     0     0     0     0     0     0\n",
      "      0     0     0     0     0     0     0     0     0     0     0     0\n",
      "      0     0     0     0     0     0     0     0     0     0     0     0\n",
      "      0     0     0     0     0     0     0     0     0     0     0     0\n",
      "      0     0     0     0     0     0     0]]\n"
     ]
    }
   ],
   "source": [
    "# check out the vectorizer\n",
    "random_sentence = random.choice(train_sentences)\n",
    "print(f\"Original Sentence : {random_sentence}\\n\")\n",
    "print(f\"Vectorizer Sentence : {text_vectorizer([random_sentence])}\")"
   ]
  },
  {
   "cell_type": "code",
   "execution_count": 28,
   "id": "231e98f8",
   "metadata": {},
   "outputs": [
    {
     "name": "stdout",
     "output_type": "stream",
     "text": [
      "Total Words in the Vocabulary : 64841\n",
      "\n",
      "Top five words :\n",
      " ['', '[UNK]', 'the', 'and', 'of']\n",
      "\n",
      "Bottom five words : \n",
      " ['aainduced', 'aaigroup', 'aachener', 'aachen', 'aaacp']\n"
     ]
    }
   ],
   "source": [
    "# find out the vocabulary from data...\n",
    "vocab = text_vectorizer.get_vocabulary()\n",
    "print(f\"Total Words in the Vocabulary : {len(vocab)}\\n\")\n",
    "print(f\"Top five words :\\n {vocab[:5]}\\n\")\n",
    "print(f\"Bottom five words : \\n {vocab[-5:]}\")"
   ]
  },
  {
   "cell_type": "code",
   "execution_count": null,
   "id": "75aaa4e0",
   "metadata": {},
   "outputs": [],
   "source": []
  },
  {
   "cell_type": "code",
   "execution_count": 29,
   "id": "a5107aa0",
   "metadata": {},
   "outputs": [
    {
     "name": "stdout",
     "output_type": "stream",
     "text": [
      "Original Sentence : \n",
      "this is particularly valuable in situations involving complex visual subject matters , typical in clinical practice .\n",
      "\n",
      "Embedd Sentence : \n",
      " [[[ 0.01854812  0.03406577  0.03569676 ...  0.04980786 -0.01408248\n",
      "    0.01847013]\n",
      "  [-0.00635862  0.03439102 -0.04105362 ...  0.04345198  0.00032137\n",
      "    0.00385853]\n",
      "  [ 0.02368069  0.02760288 -0.0249552  ... -0.0257163   0.04944159\n",
      "   -0.04412895]\n",
      "  ...\n",
      "  [ 0.02198042 -0.02677277 -0.04756169 ...  0.04956089 -0.01161468\n",
      "   -0.0484657 ]\n",
      "  [ 0.02198042 -0.02677277 -0.04756169 ...  0.04956089 -0.01161468\n",
      "   -0.0484657 ]\n",
      "  [ 0.02198042 -0.02677277 -0.04756169 ...  0.04956089 -0.01161468\n",
      "   -0.0484657 ]]]\n"
     ]
    }
   ],
   "source": [
    "# Create Embedd Layer for richer representation for our token numbers...\n",
    "embed_layer = Embedding(input_dim = len(vocab),\n",
    "                       output_dim =128,\n",
    "                       embeddings_initializer=\"uniform\",\n",
    "                       input_length=55,\n",
    "                       name=\"Default_Embedding\")\n",
    "\n",
    "# check out the Embedding layer\n",
    "random_sentence = random.choice(train_sentences)\n",
    "print(f\"Original Sentence : \\n{random_sentence}\\n\")\n",
    "print(f\"Embedd Sentence : \\n {embed_layer(text_vectorizer([random_sentence]))}\")"
   ]
  },
  {
   "cell_type": "code",
   "execution_count": 30,
   "id": "5138d97f",
   "metadata": {},
   "outputs": [],
   "source": [
    "# create dataset as fast as possible \n",
    "# let's convert our data into tensors...\n",
    "train_dataset = tf.data.Dataset.from_tensor_slices((train_sentences,train_labels))\n",
    "val_dataset = tf.data.Dataset.from_tensor_slices((val_sentences,val_labels))\n",
    "test_dataset = tf.data.Dataset.from_tensor_slices((test_sentences,test_labels))"
   ]
  },
  {
   "cell_type": "code",
   "execution_count": 31,
   "id": "ccf22958",
   "metadata": {},
   "outputs": [],
   "source": [
    "# now convert them into the batches and prefetch for fast load on GPU\n",
    "train_dataset = train_dataset.batch(32).prefetch(tf.data.AUTOTUNE)\n",
    "val_dataset = val_dataset.batch(32).prefetch(tf.data.AUTOTUNE)\n",
    "test_dataset = test_dataset.batch(32).prefetch(tf.data.AUTOTUNE)"
   ]
  },
  {
   "cell_type": "code",
   "execution_count": 32,
   "id": "da3839be",
   "metadata": {},
   "outputs": [
    {
     "data": {
      "text/plain": [
       "<PrefetchDataset element_spec=(TensorSpec(shape=(None,), dtype=tf.string, name=None), TensorSpec(shape=(None,), dtype=tf.int64, name=None))>"
      ]
     },
     "execution_count": 32,
     "metadata": {},
     "output_type": "execute_result"
    }
   ],
   "source": [
    "# check out the train dataset\n",
    "train_dataset"
   ]
  },
  {
   "cell_type": "markdown",
   "id": "e56d64e0",
   "metadata": {},
   "source": [
    "## Model 1 : Cov1D"
   ]
  },
  {
   "cell_type": "code",
   "execution_count": 35,
   "id": "992e7ba7",
   "metadata": {},
   "outputs": [
    {
     "name": "stdout",
     "output_type": "stream",
     "text": [
      "Model: \"Conv1D_Model\"\n",
      "_________________________________________________________________\n",
      " Layer (type)                Output Shape              Param #   \n",
      "=================================================================\n",
      " input_2 (InputLayer)        [(None, 1)]               0         \n",
      "                                                                 \n",
      " text_vectorization (TextVec  (None, 55)               0         \n",
      " torization)                                                     \n",
      "                                                                 \n",
      " Default_Embedding (Embeddin  (None, 55, 128)          8299648   \n",
      " g)                                                              \n",
      "                                                                 \n",
      " conv1d_1 (Conv1D)           (None, 55, 64)            41024     \n",
      "                                                                 \n",
      " global_average_pooling1d_1   (None, 64)               0         \n",
      " (GlobalAveragePooling1D)                                        \n",
      "                                                                 \n",
      " dense (Dense)               (None, 5)                 325       \n",
      "                                                                 \n",
      "=================================================================\n",
      "Total params: 8,340,997\n",
      "Trainable params: 8,340,997\n",
      "Non-trainable params: 0\n",
      "_________________________________________________________________\n"
     ]
    }
   ],
   "source": [
    "# the first model we're going to build is 1-dimensional Convolutional Neural Network...\n",
    "\n",
    "# create input layer\n",
    "inputs = layers.Input(shape = (1,),dtype=tf.string)\n",
    "\n",
    "# text vectorization layer...\n",
    "x = text_vectorizer(inputs)\n",
    "\n",
    "# Embedd layer...\n",
    "x = embed_layer(x)\n",
    "\n",
    "# conv1d layer\n",
    "x = layers.Conv1D(64,kernel_size=5,padding=\"same\",activation=\"relu\")(x)\n",
    "\n",
    "# add the average pool layer....\n",
    "x = layers.GlobalAveragePooling1D()(x)\n",
    "\n",
    "# the output layer\n",
    "outputs = layers.Dense(num_classes,activation=\"softmax\")(x)\n",
    "\n",
    "# build the model...\n",
    "model_1 = tf.keras.Model(inputs,outputs,name=\"Conv1D_Model\")\n",
    "\n",
    "# compile the model\n",
    "model_1.compile(loss=\"sparse_categorical_crossentropy\",\n",
    "               optimizer = tf.keras.optimizers.Adam(),\n",
    "               metrics = [\"accuracy\"])\n",
    "# model_1 summary\n",
    "model_1.summary()"
   ]
  },
  {
   "cell_type": "code",
   "execution_count": 36,
   "id": "5b027400",
   "metadata": {},
   "outputs": [
    {
     "name": "stdout",
     "output_type": "stream",
     "text": [
      "Epoch 1/3\n",
      "  1/562 [..............................] - ETA: 4:01 - loss: 1.6093 - accuracy: 0.0625"
     ]
    },
    {
     "name": "stderr",
     "output_type": "stream",
     "text": [
      "2022-08-19 22:58:36.598745: I tensorflow/core/grappler/optimizers/custom_graph_optimizer_registry.cc:113] Plugin optimizer for device_type GPU is enabled.\n"
     ]
    },
    {
     "name": "stdout",
     "output_type": "stream",
     "text": [
      "561/562 [============================>.] - ETA: 0s - loss: 0.9177 - accuracy: 0.6369"
     ]
    },
    {
     "name": "stderr",
     "output_type": "stream",
     "text": [
      "2022-08-19 22:58:55.404192: I tensorflow/core/grappler/optimizers/custom_graph_optimizer_registry.cc:113] Plugin optimizer for device_type GPU is enabled.\n"
     ]
    },
    {
     "name": "stdout",
     "output_type": "stream",
     "text": [
      "562/562 [==============================] - 19s 34ms/step - loss: 0.9169 - accuracy: 0.6373 - val_loss: 0.6828 - val_accuracy: 0.7377\n",
      "Epoch 2/3\n",
      "562/562 [==============================] - 18s 32ms/step - loss: 0.6540 - accuracy: 0.7581 - val_loss: 0.6290 - val_accuracy: 0.7699\n",
      "Epoch 3/3\n",
      "562/562 [==============================] - 18s 32ms/step - loss: 0.6144 - accuracy: 0.7741 - val_loss: 0.5945 - val_accuracy: 0.7866\n"
     ]
    }
   ],
   "source": [
    "# fitting the model to data.....\n",
    "history_1 = model_1.fit(train_dataset,\n",
    "                        steps_per_epoch=int(0.1 * len(train_dataset)),\n",
    "                       epochs=3,\n",
    "                       validation_data=val_dataset,\n",
    "                       validation_steps = int(0.1 * len(val_dataset)),\n",
    "                       callbacks =[tf.keras.callbacks.EarlyStopping(patience=2)])"
   ]
  },
  {
   "cell_type": "code",
   "execution_count": 37,
   "id": "209e437d",
   "metadata": {},
   "outputs": [
    {
     "name": "stdout",
     "output_type": "stream",
     "text": [
      " 67/945 [=>............................] - ETA: 2s"
     ]
    },
    {
     "name": "stderr",
     "output_type": "stream",
     "text": [
      "2022-08-19 22:59:31.585312: I tensorflow/core/grappler/optimizers/custom_graph_optimizer_registry.cc:113] Plugin optimizer for device_type GPU is enabled.\n"
     ]
    },
    {
     "name": "stdout",
     "output_type": "stream",
     "text": [
      "945/945 [==============================] - 3s 3ms/step\n"
     ]
    },
    {
     "data": {
      "text/plain": [
       "array([[4.2674640e-01, 1.4814913e-01, 6.9188677e-02, 3.2962820e-01,\n",
       "        2.6287546e-02],\n",
       "       [4.8393324e-01, 2.2787191e-01, 1.2383969e-02, 2.6750058e-01,\n",
       "        8.3103646e-03],\n",
       "       [1.5913843e-01, 4.6922504e-03, 1.3429127e-03, 8.3478421e-01,\n",
       "        4.2152493e-05],\n",
       "       ...,\n",
       "       [4.7417516e-06, 7.2817388e-04, 7.2644791e-04, 4.8627176e-06,\n",
       "        9.9853575e-01],\n",
       "       [5.6012433e-02, 4.9329013e-01, 8.7086372e-02, 5.7346497e-02,\n",
       "        3.0626446e-01],\n",
       "       [1.7591362e-01, 6.8200552e-01, 6.2432874e-02, 3.9306335e-02,\n",
       "        4.0341672e-02]], dtype=float32)"
      ]
     },
     "execution_count": 37,
     "metadata": {},
     "output_type": "execute_result"
    }
   ],
   "source": [
    "# time to make prediction with our model\n",
    "model_1_probs = model_1.predict(val_dataset)\n",
    "model_1_probs"
   ]
  },
  {
   "cell_type": "code",
   "execution_count": 38,
   "id": "be86be4a",
   "metadata": {},
   "outputs": [
    {
     "data": {
      "text/plain": [
       "<tf.Tensor: shape=(30212,), dtype=int64, numpy=array([0, 0, 3, ..., 4, 1, 1])>"
      ]
     },
     "execution_count": 38,
     "metadata": {},
     "output_type": "execute_result"
    }
   ],
   "source": [
    "# convert proeb probs into labels\n",
    "model_1_preds = tf.argmax(model_1_probs,axis=1)\n",
    "model_1_preds"
   ]
  },
  {
   "cell_type": "code",
   "execution_count": 39,
   "id": "d1b17c76",
   "metadata": {},
   "outputs": [
    {
     "data": {
      "text/plain": [
       "{'Accuracy': 78.7733350986363,\n",
       " 'Precision': 0.7840981186048689,\n",
       " 'Recall': 0.787733350986363,\n",
       " 'Fscore': 0.7853102395179401}"
      ]
     },
     "execution_count": 39,
     "metadata": {},
     "output_type": "execute_result"
    }
   ],
   "source": [
    "# evaluate our model performance....\n",
    "model_1_results = calculate_results(val_labels,model_1_preds)\n",
    "model_1_results"
   ]
  },
  {
   "cell_type": "markdown",
   "id": "4c8f6121",
   "metadata": {},
   "source": [
    "## Model 2 : Conv1D with Character Embeddings..."
   ]
  },
  {
   "cell_type": "code",
   "execution_count": 40,
   "id": "c5588aae",
   "metadata": {},
   "outputs": [],
   "source": [
    "# make a function that will split sentences into characters...\n",
    "def split_sentences(sentence):\n",
    "    return \" \".join(list(sentence))"
   ]
  },
  {
   "cell_type": "code",
   "execution_count": 41,
   "id": "83dcb8f5",
   "metadata": {},
   "outputs": [
    {
     "name": "stdout",
     "output_type": "stream",
     "text": [
      "t o   i n v e s t i g a t e   t h e   e f f i c a c y   o f   @   w e e k s   o f   d a i l y   l o w - d o s e   o r a l   p r e d n i s o l o n e   i n   i m p r o v i n g   p a i n   ,   m o b i l i t y   ,   a n d   s y s t e m i c   l o w - g r a d e   i n f l a m m a t i o n   i n   t h e   s h o r t   t e r m   a n d   w h e t h e r   t h e   e f f e c t   w o u l d   b e   s u s t a i n e d   a t   @   w e e k s   i n   o l d e r   a d u l t s   w i t h   m o d e r a t e   t o   s e v e r e   k n e e   o s t e o a r t h r i t i s   (   o a   )   .\n"
     ]
    }
   ],
   "source": [
    "# split sentences into characters....\n",
    "train_char = [split_sentences(sentence) for sentence in train_sentences]\n",
    "val_char = [split_sentences(sentence) for sentence in val_sentences]\n",
    "test_char = [split_sentences(sentence) for sentence in test_sentences]\n",
    "\n",
    "print(train_char[0])"
   ]
  },
  {
   "cell_type": "code",
   "execution_count": 42,
   "id": "f699c57d",
   "metadata": {},
   "outputs": [
    {
     "data": {
      "text/plain": [
       "149.3662574983337"
      ]
     },
     "execution_count": 42,
     "metadata": {},
     "output_type": "execute_result"
    }
   ],
   "source": [
    "# average character length....\n",
    "char_len = [len(sentence) for sentence in train_sentences]\n",
    "mean_char = np.mean(char_len)\n",
    "mean_char"
   ]
  },
  {
   "cell_type": "code",
   "execution_count": 43,
   "id": "d8c13c38",
   "metadata": {},
   "outputs": [
    {
     "data": {
      "text/plain": [
       "290"
      ]
     },
     "execution_count": 43,
     "metadata": {},
     "output_type": "execute_result"
    }
   ],
   "source": [
    "output_seq_len = int(np.percentile(char_len,95))\n",
    "output_seq_len "
   ]
  },
  {
   "cell_type": "code",
   "execution_count": 44,
   "id": "379eab20",
   "metadata": {},
   "outputs": [
    {
     "name": "stderr",
     "output_type": "stream",
     "text": [
      "2022-08-19 22:59:36.871365: I tensorflow/core/grappler/optimizers/custom_graph_optimizer_registry.cc:113] Plugin optimizer for device_type GPU is enabled.\n"
     ]
    }
   ],
   "source": [
    "# create char-level vectorization...\n",
    "alp = string.ascii_lowercase + string.digits + string.printable\n",
    "\n",
    "num_tokens= len(alp) + 2 # for space and OOV objects\n",
    "char_token = TextVectorization(max_tokens = num_tokens,\n",
    "                              output_sequence_length = output_seq_len,\n",
    "                              standardize = \"lower_and_strip_punctuation\",\n",
    "                              name= \"Char_Vectorization\")\n",
    "\n",
    "# adapt to data...\n",
    "char_token.adapt(train_char)"
   ]
  },
  {
   "cell_type": "code",
   "execution_count": 45,
   "id": "83e9fb5c",
   "metadata": {},
   "outputs": [
    {
     "name": "stdout",
     "output_type": "stream",
     "text": [
      "Original Text : \n",
      " t h i s   p r o t o c o l   f o r   a   r a n d o m i z e d   c o n t r o l l e d   s t u d y   i n v e s t i g a t i n g   t h e   i m p a c t   o f   t h e   t i m i n g   o f   r e n a l   r e p l a c e m e n t   t h e r a p y   i n i t i a t i o n   s h o u l d   p r o v i d e   a n   a n s w e r   t o   a   k e y   q u e s t i o n   f o r   t h e   m a n a g e m e n t   o f   p a t i e n t s   w i t h   a c u t e   k i d n e y   i n j u r y   i n   t h e   c o n t e x t   o f   s e p t i c   s h o c k   ,   f o r   w h o m   t h e   m o r t a l i t y   r a t e   r e m a i n s   c l o s e   t o   @   %   d e s p i t e   i m p r o v e d   u n d e r s t a n d i n g   o f   p h y s i o p a t h o l o g y   a n d   r e c e n t   t h e r a p e u t i c   a d v a n c e s   .\n",
      "\n",
      "Vectorizer Text : \n",
      "[[ 3 13  4  9 14  8  7  3  7 11  7 12 17  7  8  5  8  5  6 10  7 15  4 25\n",
      "   2 10 11  7  6  3  8  7 12 12  2 10  9  3 16 10 19  4  6 21  2  9  3  4\n",
      "  18  5  3  4  6 18  3 13  2  4 15 14  5 11  3  7 17  3 13  2  3  4 15  4\n",
      "   6 18  7 17  8  2  6  5 12  8  2 14 12  5 11  2 15  2  6  3  3 13  2  8\n",
      "   5 14 19  4  6  4  3  4  5  3  4  7  6  9 13  7 16 12 10 14  8  7 21  4\n",
      "  10  2  5  6  5  6  9 20  2  8  3  7  5 23  2 19 26 16  2  9  3  4  7  6\n",
      "  17  7  8  3 13  2 15  5  6  5 18  2 15  2  6  3  7 17 14  5  3  4  2  6\n",
      "   3  9 20  4  3 13  5 11 16  3  2 23  4 10  6  2 19  4  6 27 16  8 19  4\n",
      "   6  3 13  2 11  7  6  3  2 24  3  7 17  9  2 14  3  4 11  9 13  7 11 23\n",
      "  17  7  8 20 13  7 15  3 13  2 15  7  8  3  5 12  4  3 19  8  5  3  2  8\n",
      "   2 15  5  4  6  9 11 12  7  9  2  3  7 10  2  9 14  4  3  2  4 15 14  8\n",
      "   7 21  2 10 16  6 10  2  8  9  3  5  6 10  4  6 18  7 17 14 13 19  9  4\n",
      "   7 14]]\n"
     ]
    }
   ],
   "source": [
    "# let's check it out....\n",
    "random_char = random.choice(train_char)\n",
    "print(f\"Original Text : \\n {random_char}\\n\")\n",
    "print(f\"Vectorizer Text : \\n{char_token([random_char])}\")"
   ]
  },
  {
   "cell_type": "code",
   "execution_count": 46,
   "id": "0e668ed3",
   "metadata": {},
   "outputs": [
    {
     "name": "stdout",
     "output_type": "stream",
     "text": [
      "Total different characters in vocab : 28\n",
      "\n",
      "Top 5 chars : ['', '[UNK]', 'e', 't', 'i']\n",
      "\n",
      "Bottom 5 chars : ['k', 'x', 'z', 'q', 'j']\n"
     ]
    }
   ],
   "source": [
    "# find out the vocabulary in the data.....\n",
    "vocab_char = char_token.get_vocabulary()\n",
    "print(f\"Total different characters in vocab : {len(vocab_char)}\\n\")\n",
    "print(f\"Top 5 chars : {vocab_char[:5]}\\n\")\n",
    "print(f\"Bottom 5 chars : {vocab_char[-5:]}\")"
   ]
  },
  {
   "cell_type": "markdown",
   "id": "42d13b93",
   "metadata": {},
   "source": [
    "### Character level embedding..."
   ]
  },
  {
   "cell_type": "code",
   "execution_count": 47,
   "id": "373bd676",
   "metadata": {},
   "outputs": [
    {
     "name": "stdout",
     "output_type": "stream",
     "text": [
      "Original Text : \n",
      " v i s u a l   a t l a s   a n d   c o n s e n s u s   t r e a t m e n t   g u i d e l i n e   u s a g e   i n   t h e   d e v e l o p m e n t   o f   r e c t a l   c a n c e r   i m r t   t r e a t m e n t   p l a n s   r e d u c e d   t h e   i n t e r - o b s e r v e r   r a d i o b i o l o g i c a l   v a r i a t i o n   ,   w i t h   c l i n i c a l l y   r e l e v a n t   t c p   a l t e r a t i o n   f o r   c t v   a n d   p t v   v o l u m e s   .\n",
      "\n",
      "Vectorizer Text : \n",
      "[[[ 0.02302421  0.04897788 -0.01751237 ... -0.03485013  0.02618638\n",
      "   -0.02471949]\n",
      "  [ 0.04320708  0.00625777 -0.00241963 ... -0.04911428 -0.00754761\n",
      "   -0.04169189]\n",
      "  [ 0.03426358  0.04542596  0.04011219 ...  0.00630441 -0.04588494\n",
      "    0.02532015]\n",
      "  ...\n",
      "  [-0.0188207   0.03263413  0.01849456 ... -0.03177612  0.04988373\n",
      "   -0.01304941]\n",
      "  [-0.0188207   0.03263413  0.01849456 ... -0.03177612  0.04988373\n",
      "   -0.01304941]\n",
      "  [-0.0188207   0.03263413  0.01849456 ... -0.03177612  0.04988373\n",
      "   -0.01304941]]]\n"
     ]
    }
   ],
   "source": [
    "char_embedd = Embedding(input_dim = num_tokens,\n",
    "                       output_dim = 25,\n",
    "                       mask_zero = False,\n",
    "                       name= \"char_Embed\")\n",
    "\n",
    "# let'check it out...\n",
    "random_char = random.choice(train_char)\n",
    "print(f\"Original Text : \\n {random_char}\\n\")\n",
    "print(f\"Vectorizer Text : \\n{char_embedd(char_token([random_char]))}\")"
   ]
  },
  {
   "cell_type": "code",
   "execution_count": 48,
   "id": "7bf4c183",
   "metadata": {},
   "outputs": [],
   "source": [
    "# let's build the char-level Conv1D Model....\n",
    "inputs = layers.Input(shape=(1,),dtype=\"string\")\n",
    "x = char_token(inputs) # passing the input to char vectorizer\n",
    "\n",
    "# passing the char vectorizer to embedding...\n",
    "x = char_embedd(x)\n",
    "\n",
    "# passing the embedding to conv layer\n",
    "x = layers.Conv1D(64,kernel_size=5,activation=\"relu\",padding=\"same\")(x)\n",
    "\n",
    "# passing the conv layer to pool layer\n",
    "x = layers.GlobalAveragePooling1D()(x)\n",
    "\n",
    "# outputs\n",
    "outputs = layers.Dense(num_classes,activation=\"softmax\")(x)\n",
    "\n",
    "# model building...\n",
    "model_2 = tf.keras.Model(inputs,outputs)\n"
   ]
  },
  {
   "cell_type": "code",
   "execution_count": 49,
   "id": "adb246d3",
   "metadata": {},
   "outputs": [],
   "source": [
    "# compile the model\n",
    "model_2.compile(loss=\"sparse_categorical_crossentropy\",\n",
    "               optimizer = tf.keras.optimizers.Adam(),\n",
    "               metrics = [\"accuracy\"])"
   ]
  },
  {
   "cell_type": "code",
   "execution_count": 50,
   "id": "d8a6bd3a",
   "metadata": {},
   "outputs": [
    {
     "name": "stdout",
     "output_type": "stream",
     "text": [
      "Model: \"model\"\n",
      "_________________________________________________________________\n",
      " Layer (type)                Output Shape              Param #   \n",
      "=================================================================\n",
      " input_3 (InputLayer)        [(None, 1)]               0         \n",
      "                                                                 \n",
      " Char_Vectorization (TextVec  (None, 290)              0         \n",
      " torization)                                                     \n",
      "                                                                 \n",
      " char_Embed (Embedding)      (None, 290, 25)           3450      \n",
      "                                                                 \n",
      " conv1d_2 (Conv1D)           (None, 290, 64)           8064      \n",
      "                                                                 \n",
      " global_average_pooling1d_2   (None, 64)               0         \n",
      " (GlobalAveragePooling1D)                                        \n",
      "                                                                 \n",
      " dense_1 (Dense)             (None, 5)                 325       \n",
      "                                                                 \n",
      "=================================================================\n",
      "Total params: 11,839\n",
      "Trainable params: 11,839\n",
      "Non-trainable params: 0\n",
      "_________________________________________________________________\n"
     ]
    }
   ],
   "source": [
    "# model summary\n",
    "model_2.summary()"
   ]
  },
  {
   "cell_type": "code",
   "execution_count": 51,
   "id": "deade06d",
   "metadata": {},
   "outputs": [
    {
     "data": {
      "text/plain": [
       "<PrefetchDataset element_spec=(TensorSpec(shape=(None,), dtype=tf.string, name=None), TensorSpec(shape=(None,), dtype=tf.int64, name=None))>"
      ]
     },
     "execution_count": 51,
     "metadata": {},
     "output_type": "execute_result"
    }
   ],
   "source": [
    "# create char tensor data-sets..\n",
    "train_char_dataset = tf.data.Dataset.from_tensor_slices((train_char,train_labels)).batch(32).prefetch(tf.data.AUTOTUNE)\n",
    "val_char_dataset = tf.data.Dataset.from_tensor_slices((val_char,val_labels)).batch(32).prefetch(tf.data.AUTOTUNE)\n",
    "\n",
    "train_char_dataset"
   ]
  },
  {
   "cell_type": "code",
   "execution_count": 52,
   "id": "9a005665",
   "metadata": {},
   "outputs": [
    {
     "name": "stdout",
     "output_type": "stream",
     "text": [
      "Epoch 1/3\n",
      "    3/18004 [..............................] - ETA: 9:32 - loss: 1.6080 - accuracy: 0.2083   "
     ]
    },
    {
     "name": "stderr",
     "output_type": "stream",
     "text": [
      "2022-08-19 22:59:41.731329: I tensorflow/core/grappler/optimizers/custom_graph_optimizer_registry.cc:113] Plugin optimizer for device_type GPU is enabled.\n"
     ]
    },
    {
     "name": "stdout",
     "output_type": "stream",
     "text": [
      " 5627/18004 [========>.....................] - ETA: 5:44 - loss: 1.3074 - accuracy: 0.4516WARNING:tensorflow:Your input ran out of data; interrupting training. Make sure that your dataset or generator can generate at least `steps_per_epoch * epochs` batches (in this case, 54012 batches). You may need to use the repeat() function when building your dataset.\n"
     ]
    },
    {
     "name": "stderr",
     "output_type": "stream",
     "text": [
      "2022-08-19 23:02:18.738406: I tensorflow/core/grappler/optimizers/custom_graph_optimizer_registry.cc:113] Plugin optimizer for device_type GPU is enabled.\n"
     ]
    },
    {
     "name": "stdout",
     "output_type": "stream",
     "text": [
      "WARNING:tensorflow:Your input ran out of data; interrupting training. Make sure that your dataset or generator can generate at least `steps_per_epoch * epochs` batches (in this case, 3021 batches). You may need to use the repeat() function when building your dataset.\n",
      "18004/18004 [==============================] - 162s 9ms/step - loss: 1.3074 - accuracy: 0.4516 - val_loss: 1.2403 - val_accuracy: 0.4883\n"
     ]
    }
   ],
   "source": [
    "# fitting the model to data...\n",
    "history_2 = model_2.fit(train_char_dataset,\n",
    "                       epochs =3,\n",
    "                       steps_per_epoch = int(0.1 * len(train_char)),\n",
    "                       validation_data = val_char_dataset,\n",
    "                       validation_steps = int(0.1 * len(val_char)))"
   ]
  },
  {
   "cell_type": "code",
   "execution_count": 53,
   "id": "ee6eace0",
   "metadata": {},
   "outputs": [
    {
     "name": "stdout",
     "output_type": "stream",
     "text": [
      " 47/945 [>.............................] - ETA: 3s"
     ]
    },
    {
     "name": "stderr",
     "output_type": "stream",
     "text": [
      "2022-08-19 23:02:23.274929: I tensorflow/core/grappler/optimizers/custom_graph_optimizer_registry.cc:113] Plugin optimizer for device_type GPU is enabled.\n"
     ]
    },
    {
     "name": "stdout",
     "output_type": "stream",
     "text": [
      "945/945 [==============================] - 5s 5ms/step\n"
     ]
    },
    {
     "data": {
      "text/plain": [
       "{'Accuracy': 48.82828015358136,\n",
       " 'Precision': 0.4444318962929611,\n",
       " 'Recall': 0.4882828015358136,\n",
       " 'Fscore': 0.44412241465253566}"
      ]
     },
     "execution_count": 53,
     "metadata": {},
     "output_type": "execute_result"
    }
   ],
   "source": [
    "# let's make prediction and calculate the results...\n",
    "model_2_results = calculate_results(val_labels,tf.argmax(model_2.predict(val_char_dataset),axis=1))\n",
    "model_2_results"
   ]
  },
  {
   "cell_type": "code",
   "execution_count": 54,
   "id": "dd2f3679",
   "metadata": {},
   "outputs": [
    {
     "name": "stdout",
     "output_type": "stream",
     "text": [
      "Model: \"model\"\n",
      "_________________________________________________________________\n",
      " Layer (type)                Output Shape              Param #   \n",
      "=================================================================\n",
      " input_3 (InputLayer)        [(None, 1)]               0         \n",
      "                                                                 \n",
      " Char_Vectorization (TextVec  (None, 290)              0         \n",
      " torization)                                                     \n",
      "                                                                 \n",
      " char_Embed (Embedding)      (None, 290, 25)           3450      \n",
      "                                                                 \n",
      " conv1d_2 (Conv1D)           (None, 290, 64)           8064      \n",
      "                                                                 \n",
      " global_average_pooling1d_2   (None, 64)               0         \n",
      " (GlobalAveragePooling1D)                                        \n",
      "                                                                 \n",
      " dense_1 (Dense)             (None, 5)                 325       \n",
      "                                                                 \n",
      "=================================================================\n",
      "Total params: 11,839\n",
      "Trainable params: 11,839\n",
      "Non-trainable params: 0\n",
      "_________________________________________________________________\n"
     ]
    }
   ],
   "source": [
    "model_2.summary()"
   ]
  },
  {
   "cell_type": "code",
   "execution_count": 61,
   "id": "65369b78",
   "metadata": {},
   "outputs": [
    {
     "data": {
      "text/html": [
       "<div>\n",
       "<style scoped>\n",
       "    .dataframe tbody tr th:only-of-type {\n",
       "        vertical-align: middle;\n",
       "    }\n",
       "\n",
       "    .dataframe tbody tr th {\n",
       "        vertical-align: top;\n",
       "    }\n",
       "\n",
       "    .dataframe thead th {\n",
       "        text-align: right;\n",
       "    }\n",
       "</style>\n",
       "<table border=\"1\" class=\"dataframe\">\n",
       "  <thead>\n",
       "    <tr style=\"text-align: right;\">\n",
       "      <th></th>\n",
       "      <th>Accuracy</th>\n",
       "      <th>Precision</th>\n",
       "      <th>Recall</th>\n",
       "      <th>Fscore</th>\n",
       "    </tr>\n",
       "  </thead>\n",
       "  <tbody>\n",
       "    <tr>\n",
       "      <th>BaseLine</th>\n",
       "      <td>72.183238</td>\n",
       "      <td>0.718647</td>\n",
       "      <td>0.721832</td>\n",
       "      <td>0.698925</td>\n",
       "    </tr>\n",
       "    <tr>\n",
       "      <th>Conv1D</th>\n",
       "      <td>78.773335</td>\n",
       "      <td>0.784098</td>\n",
       "      <td>0.787733</td>\n",
       "      <td>0.785310</td>\n",
       "    </tr>\n",
       "    <tr>\n",
       "      <th>Char_Model</th>\n",
       "      <td>48.828280</td>\n",
       "      <td>0.444432</td>\n",
       "      <td>0.488283</td>\n",
       "      <td>0.444122</td>\n",
       "    </tr>\n",
       "  </tbody>\n",
       "</table>\n",
       "</div>"
      ],
      "text/plain": [
       "             Accuracy  Precision    Recall    Fscore\n",
       "BaseLine    72.183238   0.718647  0.721832  0.698925\n",
       "Conv1D      78.773335   0.784098  0.787733  0.785310\n",
       "Char_Model  48.828280   0.444432  0.488283  0.444122"
      ]
     },
     "execution_count": 61,
     "metadata": {},
     "output_type": "execute_result"
    }
   ],
   "source": [
    "# compare results....\n",
    "all_model = pd.DataFrame({\n",
    "    \"BaseLine\" : baseline_results,\n",
    "    \"Conv1D\" : model_1_results,\n",
    "    \"Char_Model\" : model_2_results\n",
    "})\n",
    "\n",
    "all_model = all_model.transpose()\n",
    "all_model"
   ]
  },
  {
   "cell_type": "code",
   "execution_count": 62,
   "id": "cb9854cc",
   "metadata": {},
   "outputs": [
    {
     "data": {
      "image/png": "[encoded data removed]",
      "text/plain": [
       "<Figure size 720x504 with 1 Axes>"
      ]
     },
     "metadata": {
      "needs_background": "light"
     },
     "output_type": "display_data"
    }
   ],
   "source": [
    "# plot and compare all of the model results....\n",
    "all_model.plot(kind=\"bar\",figsize=(10,7)).legend(bbox_to_anchor=(1.0,1.0));"
   ]
  },
  {
   "cell_type": "code",
   "execution_count": 63,
   "id": "db48211e",
   "metadata": {},
   "outputs": [
    {
     "name": "stdout",
     "output_type": "stream",
     "text": [
      "942/942 [==============================] - 5s 5ms/step\n"
     ]
    },
    {
     "data": {
      "text/plain": [
       "<tf.Tensor: shape=(30135,), dtype=int64, numpy=array([4, 4, 4, ..., 4, 4, 4])>"
      ]
     },
     "execution_count": 63,
     "metadata": {},
     "output_type": "execute_result"
    }
   ],
   "source": [
    "# make predictions with char model...\n",
    "preds = tf.argmax(model_2.predict(test_dataset),axis=1)\n",
    "preds"
   ]
  },
  {
   "cell_type": "code",
   "execution_count": 64,
   "id": "2773750f",
   "metadata": {},
   "outputs": [
    {
     "data": {
      "text/plain": [
       "{'Accuracy': 32.407499585199936,\n",
       " 'Precision': 0.2803063236555915,\n",
       " 'Recall': 0.32407499585199934,\n",
       " 'Fscore': 0.1629559788998415}"
      ]
     },
     "execution_count": 64,
     "metadata": {},
     "output_type": "execute_result"
    }
   ],
   "source": [
    "results = calculate_results(test_labels,preds)\n",
    "results"
   ]
  },
  {
   "cell_type": "code",
   "execution_count": null,
   "id": "3c5862a8",
   "metadata": {},
   "outputs": [],
   "source": []
  }
 ],
 "metadata": {
  "kernelspec": {
   "display_name": "Python 3 (ipykernel)",
   "language": "python",
   "name": "python3"
  },
  "language_info": {
   "codemirror_mode": {
    "name": "ipython",
    "version": 3
   },
   "file_extension": ".py",
   "mimetype": "text/x-python",
   "name": "python",
   "nbconvert_exporter": "python",
   "pygments_lexer": "ipython3",
   "version": "3.8.13"
  }
 },
 "nbformat": 4,
 "nbformat_minor": 5
}
